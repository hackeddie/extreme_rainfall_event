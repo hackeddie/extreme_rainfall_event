version https://git-lfs.github.com/spec/v1
oid sha256:6fdf98ff2ea08c8103dc1aaa3429866a1cd3c2f86d909613146fd0b289e243d5
size 251500693
